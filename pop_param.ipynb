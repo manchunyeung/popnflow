{
 "cells": [
  {
   "cell_type": "code",
   "execution_count": null,
   "id": "c1ab0185-6775-4757-b33f-ded7c430d692",
   "metadata": {},
   "outputs": [],
   "source": [
    "import numpy as np\n",
    "import matplotlib.pyplot as plt\n",
    "import gwpopulation as gwpop # using the mass model there"
   ]
  },
  {
   "cell_type": "code",
   "execution_count": null,
   "id": "f5cc3f27-fbb4-44bc-b543-01883f9667d2",
   "metadata": {},
   "outputs": [],
   "source": [
    "import h5py\n",
    "import pandas as pd\n",
    "from scipy.interpolate import interp1d, interp2d\n",
    "from astropy import cosmology, units, constants\n",
    "from astropy.cosmology import Planck15, FlatLambdaCDM\n",
    "from tqdm import tqdm\n",
    "import astropy.units as u\n"
   ]
  },
  {
   "cell_type": "code",
   "execution_count": null,
   "id": "1f501eec-2fb4-438a-9283-a91d731d2fff",
   "metadata": {},
   "outputs": [],
   "source": [
    "H0Planck = Planck15.H0.value\n",
    "Om0Planck = Planck15.Om0\n",
    "speed_of_light = constants.c.to('km/s').value"
   ]
  },
  {
   "cell_type": "code",
   "execution_count": null,
   "id": "ffde5cdc-2544-431a-9d17-bfb5465a3d92",
   "metadata": {},
   "outputs": [],
   "source": [
    "def infer_required_args_from_function_except_n_args(func, n=1): # Modified from bilby, to get the arguments of posterior\n",
    "    fullparameters = inspect.getfullargspec(func)\n",
    "    parameters = fullparameters.args[:len(fullparameters.args) - len(fullparameters.defaults)]\n",
    "    del parameters[:n]\n",
    "    return parameters"
   ]
  },
  {
   "cell_type": "code",
   "execution_count": null,
   "id": "070c087a-90c2-4d44-962c-babbc038935b",
   "metadata": {},
   "outputs": [],
   "source": [
    "# Function including dnesities\n",
    "def E(z,Om0=Om0Planck):\n",
    "    return np.sqrt(Om0*(1+z)**3 + (1.0-Om0))\n",
    "\n",
    "# Comoving volume\n",
    "def dVdz(z, H0=H0Planck):\n",
    "    cosmo = FlatLambdaCDM(H0=H0Planck,Om0=Om0Planck)\n",
    "    r_of_z = cosmo.comoving_distance(z).to(u.Mpc).value\n",
    "    return (speed_of_light / H0*E(z)) * r_of_z**2 "
   ]
  },
  {
   "cell_type": "code",
   "execution_count": null,
   "id": "881d2cce-64db-4023-8c5d-6025b99b9a0e",
   "metadata": {},
   "outputs": [],
   "source": [
    "def p_m1(data, alpha, m_max):\n",
    "    masses = data['mass_1'].values\n",
    "    mask = masses<m_max\n",
    "    \n",
    "    res = np.zeros(len(masses))\n",
    "    res[mask] =  masses[mask]**(-alpha)\n",
    "    return res\n",
    "\n",
    "def p_q(data, beta, m_min):\n",
    "    mass1 = data['mass_1'].values\n",
    "    mass_ratios = data['mass_ratio'].values\n",
    "    mask = mass_ratios>(m_min/mass1)\n",
    "    \n",
    "    mask2 = mass_ratios<1\n",
    "    \n",
    "    res = np.zeros(len(mass_ratios))\n",
    "    \n",
    "    for i in range(len(res)):\n",
    "        if mask[i]==True and mask2[i]==True:\n",
    "            res[i] = mass_ratios[i]**(beta)\n",
    "        else:\n",
    "            res[i] = 0      \n",
    "    return res\n",
    "\n",
    "def p_z(data, kappa): \n",
    "    return (1+data['redshift'])**(kappa-1) * dVdz(data['redshift'])\n",
    "\n",
    "\n",
    "def total_p(data, alpha, beta, kappa, m_min, m_max):\n",
    "    return p_m1(data, alpha, m_max)*p_q(data, beta, m_min)*p_z(data, kappa)"
   ]
  },
  {
   "cell_type": "code",
   "execution_count": null,
   "id": "1fd013cb-0126-4507-8994-cba77a742a96",
   "metadata": {},
   "outputs": [],
   "source": [
    "# p_m1 = gwpop.models.mass.two_component_primary_mass_ratio\n",
    "\n",
    "def compute_log_likelihood_per_event(data, Lambda, prior):\n",
    "    ratio = np.divide(total_p(data, *Lambda), prior, out=np.zeros_like(prior), where=prior!=0)\n",
    "    ratio[ratio==0] = 1e-15\n",
    "    return np.log(np.mean(ratio))\n",
    "\n",
    "def log_likelihood(Lambda, posteriors):\n",
    "    log_likelihood = 0.\n",
    "    for posterior in posteriors:\n",
    "        if \"prior\" in posterior:\n",
    "            prior = posterior[\"prior\"]\n",
    "        else:\n",
    "            prior = 1\n",
    "        log_likelihood += compute_log_likelihood_per_event(posterior, Lambda, prior)\n",
    "    return log_likelihood"
   ]
  },
  {
   "cell_type": "code",
   "execution_count": null,
   "id": "1bfaeb1e-1947-4a48-b382-2905181f201f",
   "metadata": {},
   "outputs": [],
   "source": [
    "parameter_translator = dict(\n",
    "    mass_1_det=\"m1_detector_frame_Msun\",\n",
    "    mass_2_det=\"m2_detector_frame_Msun\",\n",
    "    luminosity_distance=\"luminosity_distance_Mpc\",\n",
    "    a_1=\"spin1\",\n",
    "    a_2=\"spin2\",\n",
    "    cos_tilt_1=\"costilt1\",\n",
    "    cos_tilt_2=\"costilt2\",\n",
    ")\n",
    "\n",
    "posteriors = list()\n",
    "priors = list()\n",
    "\n",
    "file_str = \"./GWTC-1_sample_release/GW{}_GWTC-1.hdf5\"\n",
    "\n",
    "events = [\n",
    "    \"150914\",\n",
    "    \"151012\",\n",
    "    \"151226\",\n",
    "    \"170104\",\n",
    "    \"170608\",\n",
    "    \"170729\",\n",
    "    \"170809\",\n",
    "    \"170814\",\n",
    "    \"170818\",\n",
    "    \"170823\",\n",
    "]\n",
    "for event in events:\n",
    "    _posterior = pd.DataFrame()\n",
    "    _prior = pd.DataFrame()\n",
    "    with h5py.File(file_str.format(event)) as ff:\n",
    "        for my_key, gwtc_key in parameter_translator.items():\n",
    "            _posterior[my_key] = ff[\"IMRPhenomPv2_posterior\"][gwtc_key]\n",
    "            _prior[my_key] = ff[\"prior\"][gwtc_key]\n",
    "    posteriors.append(_posterior)\n",
    "    priors.append(_prior)"
   ]
  },
  {
   "cell_type": "code",
   "execution_count": null,
   "id": "748c2f7d-f44b-4c58-99b1-3049f42e5b3f",
   "metadata": {},
   "outputs": [],
   "source": [
    "luminosity_distances = np.linspace(1, 10000, 1000)\n",
    "redshifts = np.array(\n",
    "    [\n",
    "        cosmology.z_at_value(cosmology.Planck15.luminosity_distance, dl * units.Mpc)\n",
    "        for dl in luminosity_distances\n",
    "    ]\n",
    ")\n",
    "dl_to_z = interp1d(luminosity_distances, redshifts)\n",
    "\n",
    "luminosity_prior = luminosity_distances**2\n",
    "\n",
    "dz_ddl = np.gradient(redshifts, luminosity_distances)\n",
    "\n",
    "redshift_prior = interp1d(redshifts, luminosity_prior / dz_ddl / (1 + redshifts)**2)"
   ]
  },
  {
   "cell_type": "code",
   "execution_count": null,
   "id": "51851628-baea-4cfe-9b50-5df562cc4c50",
   "metadata": {},
   "outputs": [],
   "source": [
    "for posterior in posteriors:\n",
    "    posterior[\"redshift\"] = dl_to_z(posterior[\"luminosity_distance\"])\n",
    "    posterior[\"mass_1\"] = posterior[\"mass_1_det\"] / (1 + posterior[\"redshift\"])\n",
    "    posterior[\"mass_2\"] = posterior[\"mass_2_det\"] / (1 + posterior[\"redshift\"])\n",
    "    posterior[\"mass_ratio\"] = posterior[\"mass_2\"] / posterior[\"mass_1\"]\n",
    "    posterior[\"prior\"] = redshift_prior(posterior[\"redshift\"]) * posterior[\"mass_1\"]"
   ]
  },
  {
   "cell_type": "code",
   "execution_count": null,
   "id": "c040cdfc-59ee-442b-a3b4-2a745a70e492",
   "metadata": {},
   "outputs": [],
   "source": [
    "import bilby as bb\n",
    "from bilby.core.prior import LogUniform, PriorDict, Uniform\n",
    "from bilby.hyper.model import Model"
   ]
  },
  {
   "cell_type": "code",
   "execution_count": null,
   "id": "cc5c4448-6dc1-468c-bc83-813fb68cd3cf",
   "metadata": {},
   "outputs": [],
   "source": [
    "fast_priors = PriorDict()\n",
    "\n",
    "# mass\n",
    "fast_priors[\"alpha\"] = Uniform(minimum=-2, maximum=4, latex_label=\"$\\\\alpha$\")\n",
    "fast_priors[\"beta\"] = Uniform(minimum=-4, maximum=12, latex_label=\"$\\\\beta$\")\n",
    "fast_priors[\"mmin\"] = Uniform(minimum=5, maximum=10, latex_label=\"$m_{\\\\min}$\")\n",
    "fast_priors[\"mmax\"] = Uniform(minimum=20, maximum=60, latex_label=\"$m_{\\\\max}$\")\n",
    "# fast_priors[\"lam\"] = Uniform(minimum=0, maximum=1, latex_label=\"$\\\\lambda_{m}$\")\n",
    "# fast_priors[\"mpp\"] = Uniform(minimum=10, maximum=50, latex_label=\"$\\\\mu_{m}$\")\n",
    "# fast_priors[\"sigpp\"] = Uniform(minimum=0, maximum=10, latex_label=\"$\\\\sigma_{m}$\")\n",
    "fast_priors[\"kappa\"] = Uniform(minimum=0, maximum=10, latex_label=\"$\\\\kappa$\")"
   ]
  },
  {
   "cell_type": "code",
   "execution_count": null,
   "id": "8411736c-787f-4369-9bda-57b4f1d2afda",
   "metadata": {},
   "outputs": [],
   "source": [
    "# def log_prior(Lambda):\n",
    "#     alpha, beta, mmin, mmax, lam, mpp, sigpp = Lambda\n",
    "#     if -2<alpha<4 and -4<beta<12 and 5<mmin<10 and 20<mmax<60 and 0<lam<1 and 10<mpp<50 and 0<sigpp<10:\n",
    "#         return 0.\n",
    "#     return -np.inf\n",
    "\n",
    "def log_prior(Lambda):\n",
    "    alpha, beta, kappa, m_min, m_max = Lambda\n",
    "    if (alpha>-2) and (alpha<4) and (beta>-4) and (beta<12) and (kappa>0) and (kappa<10) and (m_max<50) and (m_min>0):\n",
    "        return 0.\n",
    "    return -np.inf\n",
    "\n",
    "def log_probability(Lambda, *posteriors):\n",
    "    lp = log_prior(Lambda)\n",
    "    if not np.isfinite(lp):\n",
    "        return -np.inf\n",
    "    return log_likelihood(Lambda, posteriors) + lp"
   ]
  },
  {
   "cell_type": "code",
   "execution_count": null,
   "id": "03a656ef-f2c8-4d71-b8ab-ddf72775ee93",
   "metadata": {},
   "outputs": [],
   "source": [
    "pos = list()\n",
    "for param in list(fast_priors.keys()):\n",
    "    pos.append(np.random.uniform(fast_priors[param].minimum<0, high=fast_priors[param].maximum, size=30))\n",
    "pos = np.array(pos).transpose()\n",
    "nwalkers, ndim = pos.shape"
   ]
  },
  {
   "cell_type": "code",
   "execution_count": null,
   "id": "8c6bfe5f-6683-4ee1-9b94-98cb46527a6d",
   "metadata": {},
   "outputs": [],
   "source": [
    "import emcee\n",
    "\n",
    "# To be run on cluster with backending\n",
    "filename = \"stored_walkers.txt\"\n",
    "backend = mc.backends.HDFBackend(filename) \n",
    "\n",
    "try:\n",
    "    samples = backend.get_chain() \n",
    "    lastpoint = samples[-1] #Find the last point in the existing backend\n",
    "    p0 = lastpoint #Initiate the walkers from the last point\n",
    "    existing_steps = len(samples) #Number of steps already completed\n",
    "    N_samples = N_samples - existing_steps #Update the number of steps to be run\n",
    "    \n",
    "except: #If the backend is empty (i.e. a new run)\n",
    "    \n",
    "    p0 = pos #np.random.uniform(-1.0e-10,1.0e-10,size=[nwalkers, ndim])\n",
    "    \n",
    "sampler=mc.EnsembleSampler(nwalkers, ndim, log_probability, backend = backend)\n",
    "sampler.run_mcmc(p0, N_samples, progress=True)"
   ]
  },
  {
   "cell_type": "code",
   "execution_count": null,
   "id": "8795a09d-380e-424e-a230-6878ba6ed535",
   "metadata": {},
   "outputs": [],
   "source": [
    "# import emcee\n",
    "\n",
    "# # pos = np.random.randint(0, high=50, size=(30, 5))\n",
    "\n",
    "# sampler = emcee.EnsembleSampler(\n",
    "#     nwalkers, ndim, log_probability, args=(posteriors)\n",
    "# )\n",
    "# sampler.run_mcmc(pos, 1000, progress=True);"
   ]
  },
  {
   "cell_type": "code",
   "execution_count": null,
   "id": "bba302c5-5e8c-45ff-a678-84838411b43e",
   "metadata": {},
   "outputs": [],
   "source": [
    "flat_samples = sampler.get_chain(discard=100, thin=100, flat=True)"
   ]
  },
  {
   "cell_type": "code",
   "execution_count": null,
   "id": "b74954d0-5838-479c-a1ac-e4357700bcf3",
   "metadata": {},
   "outputs": [],
   "source": [
    "import corner\n",
    "\n",
    "# labels = ['alpha', 'beta', 'mmin', 'mmax', 'lam', 'mpp', 'sigpp']\n",
    "labels = ['alpha', 'beta', 'kappa', 'mmin', 'mmax']\n",
    "\n",
    "fig = corner.corner(\n",
    "    flat_samples, labels=labels, smooth=1.2\n",
    ");"
   ]
  },
  {
   "cell_type": "code",
   "execution_count": null,
   "id": "73f576ba-b9ec-43ed-a38c-01a61509d59b",
   "metadata": {},
   "outputs": [],
   "source": []
  }
 ],
 "metadata": {
  "kernelspec": {
   "display_name": "Python 3 (ipykernel)",
   "language": "python",
   "name": "python3"
  },
  "language_info": {
   "codemirror_mode": {
    "name": "ipython",
    "version": 3
   },
   "file_extension": ".py",
   "mimetype": "text/x-python",
   "name": "python",
   "nbconvert_exporter": "python",
   "pygments_lexer": "ipython3",
   "version": "3.9.13"
  }
 },
 "nbformat": 4,
 "nbformat_minor": 5
}
